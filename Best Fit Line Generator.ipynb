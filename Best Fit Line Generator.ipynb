{
 "cells": [
  {
   "cell_type": "markdown",
   "id": "3773a44a",
   "metadata": {},
   "source": [
    "# Implementing Linear Regression for 2Dimensional Dataset by Calculus/Symbolic Math"
   ]
  },
  {
   "cell_type": "code",
   "execution_count": 25,
   "id": "c9648430",
   "metadata": {},
   "outputs": [],
   "source": [
    "#In Linear Regression,we have to find the best fit line\n",
    "#We know equation of a line is y=mx+b where m is the slope and b is the Y-Intercept\n",
    "#Now as there can be infinite lines, we just need to find the value of m and b to remove other possibilites and get our best fit line\n",
    "#We know that our Best fit line has minimum Mean Squared Error\n",
    "#So MSE=(Sum of Squared Terms)/Number of terms\n",
    "#As No of terms can't change for a given dataset->Min MSE implies minimum Sum of Squared Terms\n",
    "#So Assuming our Best line is y=mx+c,I have generated Expression of Sum of Squared Terms=Sigma(mx+c-y)^2\n",
    "#Then I have differentiated Sum of Squared Terms wrt m and b and equated it to 0\n",
    "#As for Maxima or Minima for a function g(l,m), dg/dl=0 and dg/dm=0\n",
    "#And After solving those two equations,I have returned that value"
   ]
  },
  {
   "cell_type": "code",
   "execution_count": 34,
   "id": "b0e869f4",
   "metadata": {},
   "outputs": [],
   "source": [
    "#To run these codes,Install Numpy and Sympy"
   ]
  },
  {
   "cell_type": "markdown",
   "id": "aaab4292",
   "metadata": {},
   "source": [
    "## Storing Dependent and Independent variable values in Numpy Array"
   ]
  },
  {
   "cell_type": "code",
   "execution_count": 27,
   "id": "8e5cdc41",
   "metadata": {},
   "outputs": [
    {
     "name": "stdout",
     "output_type": "stream",
     "text": [
      "x= [1 2 3]\n",
      "y= [3 2 4]\n"
     ]
    }
   ],
   "source": [
    "import numpy as np\n",
    "x=np.array([1,2,3])\n",
    "y=np.array([3,2,4])\n",
    "print(\"x=\",x)\n",
    "print(\"y=\",y)"
   ]
  },
  {
   "cell_type": "markdown",
   "id": "9732dee0",
   "metadata": {},
   "source": [
    "## Generating Expression of Sum of Squared Terms"
   ]
  },
  {
   "cell_type": "code",
   "execution_count": 28,
   "id": "2fb6eba5",
   "metadata": {},
   "outputs": [
    {
     "name": "stdout",
     "output_type": "stream",
     "text": [
      "(b + m - 3)**2 + (b + 2*m - 2)**2 + (b + 3*m - 4)**2\n"
     ]
    }
   ],
   "source": [
    "import sympy\n",
    "\n",
    "m,b=sympy.symbols('m b')\n",
    "Sum_of_Squared_Terms=0\n",
    "for i in range(len(x)):\n",
    "    Sum_of_Squared_Terms+=(m*x[i]+b-y[i])**2\n",
    "print(Sum_of_Squared_Terms)"
   ]
  },
  {
   "cell_type": "code",
   "execution_count": 29,
   "id": "db4c53d2",
   "metadata": {},
   "outputs": [
    {
     "name": "stdout",
     "output_type": "stream",
     "text": [
      "(b + m - 3)**2 + (b + 2*m - 2)**2 + (b + 3*m - 4)**2\n"
     ]
    }
   ],
   "source": [
    "SSE=Sum_of_Squared_Terms #Just Short form\n",
    "print(SSE)"
   ]
  },
  {
   "cell_type": "markdown",
   "id": "1cfe09b4",
   "metadata": {},
   "source": [
    "## Differentiating SSE wrt Slope and Y_Intercept"
   ]
  },
  {
   "cell_type": "code",
   "execution_count": 30,
   "id": "ab8bfcc9",
   "metadata": {},
   "outputs": [
    {
     "name": "stdout",
     "output_type": "stream",
     "text": [
      "d(SSE)/dm= 12*b + 28*m - 38\n",
      "d(SSE)/db= 6*b + 12*m - 18\n"
     ]
    }
   ],
   "source": [
    "dSSE_dm=sympy.diff(SSE,m)\n",
    "dSSE_db=sympy.diff(SSE,b)\n",
    "print(\"d(SSE)/dm=\",dSSE_dm)\n",
    "print(\"d(SSE)/db=\",dSSE_db)"
   ]
  },
  {
   "cell_type": "markdown",
   "id": "bf16424f",
   "metadata": {},
   "source": [
    "## Solving the Obtained Equations to get the value of Slope and Y_Intercept"
   ]
  },
  {
   "cell_type": "code",
   "execution_count": 31,
   "id": "4f875043",
   "metadata": {},
   "outputs": [
    {
     "name": "stdout",
     "output_type": "stream",
     "text": [
      "{b: 2, m: 1/2}\n"
     ]
    }
   ],
   "source": [
    "Answer=sympy.solve([dSSE_dm,dSSE_db],[m,b])\n",
    "print(Answer)"
   ]
  },
  {
   "cell_type": "markdown",
   "id": "2a02be8f",
   "metadata": {},
   "source": [
    "# Generalizing the Results"
   ]
  },
  {
   "cell_type": "code",
   "execution_count": 32,
   "id": "d3bddb74",
   "metadata": {},
   "outputs": [],
   "source": [
    "def Linear_Regression(Input,Output):\n",
    "    #Give Input and Output as Numpy Arrays\n",
    "    m,b=sympy.symbols('m b')\n",
    "    \n",
    "    #Sum of Squared Terms initialized as 0\n",
    "    SSE=0\n",
    "    \n",
    "    if(len(Input)!=len(Output)):\n",
    "        print(\"Missing Values\")\n",
    "        return -1\n",
    "    \n",
    "    #Generating the expression of Sum of Squared Terms\n",
    "    for i in range(len(Input)):\n",
    "        SSE+=(m*x[i]+b-y[i])**2\n",
    "     \n",
    "    #Differentiating the generated expression wrt m and b\n",
    "    dSSE_dm=sympy.diff(SSE,m)\n",
    "    dSSE_db=sympy.diff(SSE,b)\n",
    "    \n",
    "    #Solving for m and b by equating the equations after differentiating to 0\n",
    "    #As for Maxima or Minima for a function g(l,m), dg/dl=0 and dg/dm=0\n",
    "    Answer=sympy.solve([dSSE_dm,dSSE_db],[m,b])\n",
    "    return Answer"
   ]
  },
  {
   "cell_type": "code",
   "execution_count": 33,
   "id": "dab57ad1",
   "metadata": {},
   "outputs": [
    {
     "name": "stdout",
     "output_type": "stream",
     "text": [
      "{b: 2, m: 1/2}\n"
     ]
    }
   ],
   "source": [
    "print(Linear_Regression(x,y))"
   ]
  },
  {
   "cell_type": "code",
   "execution_count": null,
   "id": "a0285767",
   "metadata": {},
   "outputs": [],
   "source": []
  }
 ],
 "metadata": {
  "kernelspec": {
   "display_name": "Python 3 (ipykernel)",
   "language": "python",
   "name": "python3"
  },
  "language_info": {
   "codemirror_mode": {
    "name": "ipython",
    "version": 3
   },
   "file_extension": ".py",
   "mimetype": "text/x-python",
   "name": "python",
   "nbconvert_exporter": "python",
   "pygments_lexer": "ipython3",
   "version": "3.10.6"
  }
 },
 "nbformat": 4,
 "nbformat_minor": 5
}
